{
 "cells": [
  {
   "cell_type": "code",
   "execution_count": 1,
   "id": "93417258-4e8e-40a2-8ca4-2683fa3517bb",
   "metadata": {},
   "outputs": [
    {
     "name": "stdout",
     "output_type": "stream",
     "text": [
      "AI-ML Apprenticeship\n"
     ]
    }
   ],
   "source": [
    "print(\"AI-ML Apprenticeship\")"
   ]
  },
  {
   "cell_type": "code",
   "execution_count": null,
   "id": "68f8a2ac-70d5-4244-98fd-1ca7538e3db9",
   "metadata": {},
   "outputs": [],
   "source": []
  }
 ],
 "metadata": {
  "kernelspec": {
   "display_name": "Python 3 (ipykernel)",
   "language": "python",
   "name": "python3"
  },
  "language_info": {
   "codemirror_mode": {
    "name": "ipython",
    "version": 3
   },
   "file_extension": ".py",
   "mimetype": "text/x-python",
   "name": "python",
   "nbconvert_exporter": "python",
   "pygments_lexer": "ipython3",
   "version": "3.13.5"
  }
 },
 "nbformat": 4,
 "nbformat_minor": 5
}
