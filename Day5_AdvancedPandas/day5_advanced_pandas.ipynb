{
 "cells": [
  {
   "cell_type": "code",
   "execution_count": 4,
   "id": "05e628e6-cc71-4249-ada1-c2db53fce411",
   "metadata": {},
   "outputs": [
    {
     "name": "stdout",
     "output_type": "stream",
     "text": [
      "Students DataFrame:\n",
      "    student_id       name   dept  year\n",
      "0         101     Adhira  AI&DS     3\n",
      "1         102     Dhanya  AI&DS     3\n",
      "2         103   Saravana     CS     2\n",
      "3         104  Manokaran     CS     2\n",
      "4         105  Keerthana     IT     3\n",
      "\n",
      "Marks DataFrame:\n",
      "    student_id  marks\n",
      "0         101     85\n",
      "1         102     78\n",
      "2         103     92\n",
      "3         104     66\n",
      "4         105     74\n"
     ]
    }
   ],
   "source": [
    "import pandas as pd\n",
    "\n",
    "# Student details\n",
    "students = pd.DataFrame({\n",
    "    \"student_id\": [101, 102, 103, 104, 105],\n",
    "    \"name\": [\"Adhira\", \"Dhanya\", \"Saravana\", \"Manokaran\", \"Keerthana\"],\n",
    "    \"dept\": [\"AI&DS\", \"AI&DS\", \"CS\", \"CS\", \"IT\"],\n",
    "    \"year\": [3, 3, 2, 2, 3]\n",
    "})\n",
    "\n",
    "# Marks dataset\n",
    "marks = pd.DataFrame({\n",
    "    \"student_id\": [101, 102, 103, 104, 105],\n",
    "    \"marks\": [85, 78, 92, 66, 74]\n",
    "})\n",
    "\n",
    "# Display DataFrames\n",
    "print(\"Students DataFrame:\\n\", students)\n",
    "print(\"\\nMarks DataFrame:\\n\", marks)\n"
   ]
  },
  {
   "cell_type": "code",
   "execution_count": 5,
   "id": "3e09a961-5946-456d-b627-91c3d8201139",
   "metadata": {},
   "outputs": [
    {
     "name": "stdout",
     "output_type": "stream",
     "text": [
      "   student_id       name   dept  year  marks\n",
      "0         101     Adhira  AI&DS     3     85\n",
      "1         102     Dhanya  AI&DS     3     78\n",
      "2         103   Saravana     CS     2     92\n",
      "3         104  Manokaran     CS     2     66\n",
      "4         105  Keerthana     IT     3     74\n"
     ]
    }
   ],
   "source": [
    "df = pd.merge(students,marks,on =\"student_id\",how = \"inner\")\n",
    "print(df)"
   ]
  },
  {
   "cell_type": "code",
   "execution_count": 3,
   "id": "f4d3fd80-591e-4030-ae80-18c00daae46d",
   "metadata": {},
   "outputs": [
    {
     "name": "stdout",
     "output_type": "stream",
     "text": [
      "   student_id       name   dept  year  marks Result\n",
      "0         101     Adhira  AI&DS     3     85   Pass\n",
      "1         102     Dhanya  AI&DS     3     78   Pass\n",
      "2         103   Saravana     CS     2     92   Pass\n",
      "3         104  Manokaran     CS     2     66   Pass\n",
      "4         105  Keerthana     IT     3     74   Pass\n"
     ]
    }
   ],
   "source": [
    "df[\"Result\"]= df[\"marks\"].apply(lambda x:\"Pass\" if x >= 50 else \"Fail\")\n",
    "print(df)"
   ]
  },
  {
   "cell_type": "code",
   "execution_count": 6,
   "id": "78a95fb5-05c4-4762-a4c7-7717c9f424d9",
   "metadata": {},
   "outputs": [
    {
     "name": "stdout",
     "output_type": "stream",
     "text": [
      "dept\n",
      "AI&DS    81.5\n",
      "CS       79.0\n",
      "IT       74.0\n",
      "Name: marks, dtype: float64\n"
     ]
    }
   ],
   "source": [
    "avg_marks = df.groupby(\"dept\")[\"marks\"].mean()\n",
    "print(avg_marks)"
   ]
  },
  {
   "cell_type": "code",
   "execution_count": 7,
   "id": "481f0d1a-9c1b-4251-b43c-c4a3e7f129e2",
   "metadata": {},
   "outputs": [
    {
     "name": "stdout",
     "output_type": "stream",
     "text": [
      "       sum  min  max\n",
      "dept                \n",
      "AI&DS  163   78   85\n",
      "CS     158   66   92\n",
      "IT      74   74   74\n"
     ]
    }
   ],
   "source": [
    "agg_marks = df.groupby(\"dept\")[\"marks\"].agg([\"sum\",\"min\",\"max\"])\n",
    "print(agg_marks)"
   ]
  },
  {
   "cell_type": "code",
   "execution_count": 7,
   "id": "27b8c30e-134b-4ff3-bd2a-cc98c113093f",
   "metadata": {},
   "outputs": [
    {
     "name": "stdout",
     "output_type": "stream",
     "text": [
      "   student_id      name   dept  year  marks Result\n",
      "0         101    Adhira  AI&DS     3     85   Pass\n",
      "1         102    Dhanya  AI&DS     3     78   Pass\n",
      "2         103  Saravana     CS     2     92   Pass\n"
     ]
    }
   ],
   "source": [
    "top_students = df[df[\"marks\"] > 75]\n",
    "print(top_students)"
   ]
  },
  {
   "cell_type": "code",
   "execution_count": 8,
   "id": "3b7d88fe-f442-4a70-8f0c-da31c0d40015",
   "metadata": {},
   "outputs": [
    {
     "name": "stdout",
     "output_type": "stream",
     "text": [
      "   student_id       name   dept  year  marks\n",
      "2         103   Saravana     CS     2     92\n",
      "0         101     Adhira  AI&DS     3     85\n",
      "1         102     Dhanya  AI&DS     3     78\n",
      "4         105  Keerthana     IT     3     74\n",
      "3         104  Manokaran     CS     2     66\n"
     ]
    }
   ],
   "source": [
    "sort_df = df.sort_values(by = \"marks\",ascending = False)\n",
    "print(sort_df)\n",
    "df1=df.to_csv(\"day5_final_students.csv\", index=False)\n"
   ]
  },
  {
   "cell_type": "code",
   "execution_count": 9,
   "id": "499c40a7-9c90-48b6-ae16-c4ca7c305c43",
   "metadata": {},
   "outputs": [],
   "source": [
    "df1=df.to_csv(\"day5_final_students.csv\", index=False)\n"
   ]
  },
  {
   "cell_type": "code",
   "execution_count": null,
   "id": "cd3148fe-a791-460e-a25a-b59d824a2245",
   "metadata": {},
   "outputs": [],
   "source": []
  }
 ],
 "metadata": {
  "kernelspec": {
   "display_name": "Python 3 (ipykernel)",
   "language": "python",
   "name": "python3"
  },
  "language_info": {
   "codemirror_mode": {
    "name": "ipython",
    "version": 3
   },
   "file_extension": ".py",
   "mimetype": "text/x-python",
   "name": "python",
   "nbconvert_exporter": "python",
   "pygments_lexer": "ipython3",
   "version": "3.13.2"
  }
 },
 "nbformat": 4,
 "nbformat_minor": 5
}
