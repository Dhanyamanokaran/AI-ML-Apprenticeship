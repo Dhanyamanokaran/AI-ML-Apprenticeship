{
 "cells": [
  {
   "cell_type": "code",
   "execution_count": 1,
   "id": "a3293d5e-a5c0-4d0a-9379-40b3c0782eda",
   "metadata": {},
   "outputs": [
    {
     "name": "stdout",
     "output_type": "stream",
     "text": [
      "ABC 19 True\n"
     ]
    }
   ],
   "source": [
    "name = \"ABC\"\n",
    "age = 19\n",
    "is_student = True\n",
    "print(name,age,is_student)"
   ]
  },
  {
   "cell_type": "code",
   "execution_count": 2,
   "id": "21682233-dbbd-4bfb-a8b4-da6db78a5a59",
   "metadata": {},
   "outputs": [
    {
     "name": "stdout",
     "output_type": "stream",
     "text": [
      "Marks: [85, 90, 78, 92]\n"
     ]
    }
   ],
   "source": [
    "marks = [85,90,78,92]\n",
    "print(\"Marks:\",marks)"
   ]
  },
  {
   "cell_type": "code",
   "execution_count": 3,
   "id": "8c09c2b3-6edd-490d-ae54-2dd316d7f39f",
   "metadata": {},
   "outputs": [
    {
     "name": "stdout",
     "output_type": "stream",
     "text": [
      "First mark: 85\n"
     ]
    }
   ],
   "source": [
    "print(\"First mark:\",marks[0])"
   ]
  },
  {
   "cell_type": "code",
   "execution_count": 5,
   "id": "28cf8d59-b10e-40e5-b7c8-5881750a565e",
   "metadata": {},
   "outputs": [
    {
     "name": "stdout",
     "output_type": "stream",
     "text": [
      "abc is in AI&DS\n"
     ]
    }
   ],
   "source": [
    "student = {\"name\":\"abc\",\"dept\": \"AI&DS\",\"year\":3}\n",
    "print(student[\"name\"],\"is in\", student[\"dept\"])\n"
   ]
  },
  {
   "cell_type": "code",
   "execution_count": 6,
   "id": "81a85fbe-b454-4968-b550-efc8e187a465",
   "metadata": {},
   "outputs": [
    {
     "name": "stdout",
     "output_type": "stream",
     "text": [
      "Requirement already satisfied: numpy in c:\\users\\saravana process\\anaconda3\\lib\\site-packages (2.1.3)\n"
     ]
    }
   ],
   "source": [
    "!pip install numpy"
   ]
  },
  {
   "cell_type": "code",
   "execution_count": 7,
   "id": "ac8daf16-2302-4340-ace2-594d3aeb4120",
   "metadata": {},
   "outputs": [
    {
     "name": "stdout",
     "output_type": "stream",
     "text": [
      "1D Array: [1 2 3]\n"
     ]
    }
   ],
   "source": [
    "import numpy as np \n",
    "arr1 = np.array([1,2,3])\n",
    "print(\"1D Array:\",arr1)"
   ]
  },
  {
   "cell_type": "code",
   "execution_count": 9,
   "id": "9d67425e-6ad7-473a-8bdc-44eed982cfef",
   "metadata": {},
   "outputs": [
    {
     "name": "stdout",
     "output_type": "stream",
     "text": [
      "2D Array: [[1 2 3]\n",
      " [4 5 6]]\n"
     ]
    }
   ],
   "source": [
    "arr2= np.array([[1,2,3],[4,5,6]])\n",
    "print(\"2D Array:\",arr2)"
   ]
  },
  {
   "cell_type": "code",
   "execution_count": 10,
   "id": "3c733563-9ba3-47c1-8ef1-12e6e7e216dd",
   "metadata": {},
   "outputs": [
    {
     "name": "stdout",
     "output_type": "stream",
     "text": [
      "Sum: [11 12 13]\n",
      "Square: [1 4 9]\n",
      "Mean: 2.0\n"
     ]
    }
   ],
   "source": [
    "#Numpy Operations\n",
    "\n",
    "print(\"Sum:\",arr1+10)\n",
    "print(\"Square:\",arr1 ** 2)\n",
    "print(\"Mean:\",np.mean(arr1))"
   ]
  },
  {
   "cell_type": "code",
   "execution_count": 11,
   "id": "b1456d1a-49c8-4273-ac5c-ff2d2d5b149d",
   "metadata": {},
   "outputs": [
    {
     "name": "stdout",
     "output_type": "stream",
     "text": [
      "English\n"
     ]
    }
   ],
   "source": [
    "#Practice Questions\n",
    "#Create a list of your 5 favorite subjects and print the 2nd and last subject.\n",
    "subjects = [\"Tamil\",\"English\",\"Maths\",\"Science\",\"Social Science\"]\n",
    "print(subjects[1])\n"
   ]
  },
  {
   "cell_type": "code",
   "execution_count": 16,
   "id": "d407b346-3d30-4bbe-8682-f5498b198648",
   "metadata": {},
   "outputs": [
    {
     "name": "stdout",
     "output_type": "stream",
     "text": [
      "AI&DS\n"
     ]
    }
   ],
   "source": [
    "#Create a dictionary for yourself with keys: \"name\", \"college\", \"dept\", \"year\". Print only the department.\n",
    "\n",
    "student = {\"name\":\"Adhira\",\"college\":\"Ramco Institute of Technology\",\"dept\":\"AI&DS\",\"Year\":3}\n",
    "print(student[\"dept\"])"
   ]
  },
  {
   "cell_type": "code",
   "execution_count": 23,
   "id": "5753a209-4d58-43dc-87a6-51c985cd9ad1",
   "metadata": {},
   "outputs": [
    {
     "name": "stdout",
     "output_type": "stream",
     "text": [
      "Original: [2, 4, 6, 8]\n",
      "Squared: [4, 16, 36, 64]\n"
     ]
    }
   ],
   "source": [
    "#Write a Python function square_numbers(numbers) that takes a list and returns a list of squared numbers.\n",
    "\n",
    "def square_numbers(numbers):\n",
    "    squared_list=[]\n",
    "    for n in numbers:\n",
    "        squared_list.append(n ** 2)\n",
    "    return squared_list\n",
    "\n",
    "nums = [2,4,6,8]\n",
    "print(\"Original:\",nums)\n",
    "print(\"Squared:\",square_numbers(nums))"
   ]
  },
  {
   "cell_type": "code",
   "execution_count": 30,
   "id": "5b8167e1-80f4-4a8e-8df1-9e4f9a4fdf5e",
   "metadata": {},
   "outputs": [
    {
     "name": "stdout",
     "output_type": "stream",
     "text": [
      "[1 2 3 4 5 6]\n",
      "[16 17 18 19 20]\n",
      "10.5\n",
      "5.766281297335398\n"
     ]
    }
   ],
   "source": [
    "import numpy as np \n",
    "n1= np.array([1,2,3,4,5,6,7,8,9,10,11,12,13,14,15,16,17,18,19,20])\n",
    "print(n1[0:6])\n",
    "print(n1[-5:])\n",
    "print(np.mean(n1))\n",
    "print(np.std(n1))"
   ]
  },
  {
   "cell_type": "code",
   "execution_count": 33,
   "id": "8392e517-589f-4579-9a33-0161fa3d1cfd",
   "metadata": {},
   "outputs": [
    {
     "name": "stdout",
     "output_type": "stream",
     "text": [
      "[[45 35  9]\n",
      " [24 32  2]\n",
      " [ 8 10 29]]\n",
      "45\n",
      "[89 58 47]\n"
     ]
    }
   ],
   "source": [
    "#Create a 2D array (3x3) of random integers between 1–50 using:\n",
    "#Print the array\n",
    "#Print the maximum value in the array\n",
    "#Print the sum of each row\n",
    "n2=np.random.randint(1, 51, size=(3,3))\n",
    "print(n2)\n",
    "print(n2.max())\n",
    "print(np.sum(n2,axis=1))"
   ]
  },
  {
   "cell_type": "code",
   "execution_count": 34,
   "id": "edf09757-a4e0-4977-8051-e43095563b10",
   "metadata": {},
   "outputs": [
    {
     "name": "stdout",
     "output_type": "stream",
     "text": [
      "Element-Wise Addition: [5 7 9]\n",
      "Dot Product: 32\n"
     ]
    }
   ],
   "source": [
    "a = np.array([1,2,3])  \n",
    "b = np.array([4,5,6])  \n",
    "print(\"Element-Wise Addition:\",a+b)\n",
    "print(\"Dot Product:\",np.dot(a,b))"
   ]
  },
  {
   "cell_type": "code",
   "execution_count": null,
   "id": "b4e036ab-26b6-432d-8cdd-f91f5909af8c",
   "metadata": {},
   "outputs": [],
   "source": []
  }
 ],
 "metadata": {
  "kernelspec": {
   "display_name": "Python 3 (ipykernel)",
   "language": "python",
   "name": "python3"
  },
  "language_info": {
   "codemirror_mode": {
    "name": "ipython",
    "version": 3
   },
   "file_extension": ".py",
   "mimetype": "text/x-python",
   "name": "python",
   "nbconvert_exporter": "python",
   "pygments_lexer": "ipython3",
   "version": "3.13.5"
  }
 },
 "nbformat": 4,
 "nbformat_minor": 5
}
