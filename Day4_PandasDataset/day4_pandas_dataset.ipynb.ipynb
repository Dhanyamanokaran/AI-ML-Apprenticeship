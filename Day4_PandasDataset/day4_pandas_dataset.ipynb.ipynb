{
 "cells": [
  {
   "cell_type": "code",
   "execution_count": 4,
   "id": "b397f707-f987-4007-86c2-bbe89e34bd45",
   "metadata": {},
   "outputs": [
    {
     "data": {
      "text/html": [
       "<div>\n",
       "<style scoped>\n",
       "    .dataframe tbody tr th:only-of-type {\n",
       "        vertical-align: middle;\n",
       "    }\n",
       "\n",
       "    .dataframe tbody tr th {\n",
       "        vertical-align: top;\n",
       "    }\n",
       "\n",
       "    .dataframe thead th {\n",
       "        text-align: right;\n",
       "    }\n",
       "</style>\n",
       "<table border=\"1\" class=\"dataframe\">\n",
       "  <thead>\n",
       "    <tr style=\"text-align: right;\">\n",
       "      <th></th>\n",
       "      <th>Name,Dept,StudyHours,SleepHours,TotalHours</th>\n",
       "    </tr>\n",
       "  </thead>\n",
       "  <tbody>\n",
       "    <tr>\n",
       "      <th>0</th>\n",
       "      <td>A,AI&amp;DS,5,7,12</td>\n",
       "    </tr>\n",
       "    <tr>\n",
       "      <th>1</th>\n",
       "      <td>B,DS,6,6,12</td>\n",
       "    </tr>\n",
       "    <tr>\n",
       "      <th>2</th>\n",
       "      <td>C,AI&amp;DS,4,8,12</td>\n",
       "    </tr>\n",
       "    <tr>\n",
       "      <th>3</th>\n",
       "      <td>D,AI&amp;DS,6,5,11</td>\n",
       "    </tr>\n",
       "    <tr>\n",
       "      <th>4</th>\n",
       "      <td>E,AI&amp;DS,7,7,14</td>\n",
       "    </tr>\n",
       "  </tbody>\n",
       "</table>\n",
       "</div>"
      ],
      "text/plain": [
       "  Name,Dept,StudyHours,SleepHours,TotalHours\n",
       "0                             A,AI&DS,5,7,12\n",
       "1                                B,DS,6,6,12\n",
       "2                             C,AI&DS,4,8,12\n",
       "3                             D,AI&DS,6,5,11\n",
       "4                             E,AI&DS,7,7,14"
      ]
     },
     "execution_count": 4,
     "metadata": {},
     "output_type": "execute_result"
    }
   ],
   "source": [
    "import pandas as pd\n",
    "df = pd.read_csv(\"C:\\\\Users\\\\SARAVANA PROCESS\\\\Downloads\\\\day3_students.csv\")\n",
    "df"
   ]
  },
  {
   "cell_type": "code",
   "execution_count": 6,
   "id": "ebcc0294-af4a-4318-9d34-e62541a724d7",
   "metadata": {},
   "outputs": [
    {
     "data": {
      "text/html": [
       "<div>\n",
       "<style scoped>\n",
       "    .dataframe tbody tr th:only-of-type {\n",
       "        vertical-align: middle;\n",
       "    }\n",
       "\n",
       "    .dataframe tbody tr th {\n",
       "        vertical-align: top;\n",
       "    }\n",
       "\n",
       "    .dataframe thead th {\n",
       "        text-align: right;\n",
       "    }\n",
       "</style>\n",
       "<table border=\"1\" class=\"dataframe\">\n",
       "  <thead>\n",
       "    <tr style=\"text-align: right;\">\n",
       "      <th></th>\n",
       "      <th>Name,Dept,StudyHours,SleepHours,TotalHours</th>\n",
       "    </tr>\n",
       "  </thead>\n",
       "  <tbody>\n",
       "    <tr>\n",
       "      <th>0</th>\n",
       "      <td>A,AI&amp;DS,5,7,12</td>\n",
       "    </tr>\n",
       "    <tr>\n",
       "      <th>1</th>\n",
       "      <td>B,DS,6,6,12</td>\n",
       "    </tr>\n",
       "    <tr>\n",
       "      <th>2</th>\n",
       "      <td>C,AI&amp;DS,4,8,12</td>\n",
       "    </tr>\n",
       "  </tbody>\n",
       "</table>\n",
       "</div>"
      ],
      "text/plain": [
       "  Name,Dept,StudyHours,SleepHours,TotalHours\n",
       "0                             A,AI&DS,5,7,12\n",
       "1                                B,DS,6,6,12\n",
       "2                             C,AI&DS,4,8,12"
      ]
     },
     "execution_count": 6,
     "metadata": {},
     "output_type": "execute_result"
    }
   ],
   "source": [
    "df.head(3)"
   ]
  },
  {
   "cell_type": "code",
   "execution_count": 7,
   "id": "7c62fbcc-1a83-414d-b462-126288250aaf",
   "metadata": {},
   "outputs": [
    {
     "data": {
      "text/html": [
       "<div>\n",
       "<style scoped>\n",
       "    .dataframe tbody tr th:only-of-type {\n",
       "        vertical-align: middle;\n",
       "    }\n",
       "\n",
       "    .dataframe tbody tr th {\n",
       "        vertical-align: top;\n",
       "    }\n",
       "\n",
       "    .dataframe thead th {\n",
       "        text-align: right;\n",
       "    }\n",
       "</style>\n",
       "<table border=\"1\" class=\"dataframe\">\n",
       "  <thead>\n",
       "    <tr style=\"text-align: right;\">\n",
       "      <th></th>\n",
       "      <th>Name,Dept,StudyHours,SleepHours,TotalHours</th>\n",
       "    </tr>\n",
       "  </thead>\n",
       "  <tbody>\n",
       "    <tr>\n",
       "      <th>2</th>\n",
       "      <td>C,AI&amp;DS,4,8,12</td>\n",
       "    </tr>\n",
       "    <tr>\n",
       "      <th>3</th>\n",
       "      <td>D,AI&amp;DS,6,5,11</td>\n",
       "    </tr>\n",
       "    <tr>\n",
       "      <th>4</th>\n",
       "      <td>E,AI&amp;DS,7,7,14</td>\n",
       "    </tr>\n",
       "  </tbody>\n",
       "</table>\n",
       "</div>"
      ],
      "text/plain": [
       "  Name,Dept,StudyHours,SleepHours,TotalHours\n",
       "2                             C,AI&DS,4,8,12\n",
       "3                             D,AI&DS,6,5,11\n",
       "4                             E,AI&DS,7,7,14"
      ]
     },
     "execution_count": 7,
     "metadata": {},
     "output_type": "execute_result"
    }
   ],
   "source": [
    "df.tail(3)"
   ]
  },
  {
   "cell_type": "code",
   "execution_count": 8,
   "id": "3fbbed03-47d8-4069-8a6c-2cf820a4fb84",
   "metadata": {},
   "outputs": [
    {
     "name": "stdout",
     "output_type": "stream",
     "text": [
      "<class 'pandas.core.frame.DataFrame'>\n",
      "RangeIndex: 5 entries, 0 to 4\n",
      "Data columns (total 1 columns):\n",
      " #   Column                                      Non-Null Count  Dtype \n",
      "---  ------                                      --------------  ----- \n",
      " 0   Name,Dept,StudyHours,SleepHours,TotalHours  5 non-null      object\n",
      "dtypes: object(1)\n",
      "memory usage: 172.0+ bytes\n"
     ]
    }
   ],
   "source": [
    "df.info()"
   ]
  },
  {
   "cell_type": "code",
   "execution_count": 9,
   "id": "3be0940a-5cf8-407e-931a-f9cf326b9cfe",
   "metadata": {},
   "outputs": [
    {
     "data": {
      "text/plain": [
       "Name,Dept,StudyHours,SleepHours,TotalHours    0\n",
       "dtype: int64"
      ]
     },
     "execution_count": 9,
     "metadata": {},
     "output_type": "execute_result"
    }
   ],
   "source": [
    "df.isnull().sum()"
   ]
  },
  {
   "cell_type": "code",
   "execution_count": 10,
   "id": "d88190c4-1ba3-40e2-9d23-df09d82c6299",
   "metadata": {},
   "outputs": [
    {
     "data": {
      "text/html": [
       "<div>\n",
       "<style scoped>\n",
       "    .dataframe tbody tr th:only-of-type {\n",
       "        vertical-align: middle;\n",
       "    }\n",
       "\n",
       "    .dataframe tbody tr th {\n",
       "        vertical-align: top;\n",
       "    }\n",
       "\n",
       "    .dataframe thead th {\n",
       "        text-align: right;\n",
       "    }\n",
       "</style>\n",
       "<table border=\"1\" class=\"dataframe\">\n",
       "  <thead>\n",
       "    <tr style=\"text-align: right;\">\n",
       "      <th></th>\n",
       "      <th>Name,Dept,StudyHours,SleepHours,TotalHours</th>\n",
       "    </tr>\n",
       "  </thead>\n",
       "  <tbody>\n",
       "    <tr>\n",
       "      <th>count</th>\n",
       "      <td>5</td>\n",
       "    </tr>\n",
       "    <tr>\n",
       "      <th>unique</th>\n",
       "      <td>5</td>\n",
       "    </tr>\n",
       "    <tr>\n",
       "      <th>top</th>\n",
       "      <td>A,AI&amp;DS,5,7,12</td>\n",
       "    </tr>\n",
       "    <tr>\n",
       "      <th>freq</th>\n",
       "      <td>1</td>\n",
       "    </tr>\n",
       "  </tbody>\n",
       "</table>\n",
       "</div>"
      ],
      "text/plain": [
       "       Name,Dept,StudyHours,SleepHours,TotalHours\n",
       "count                                           5\n",
       "unique                                          5\n",
       "top                                A,AI&DS,5,7,12\n",
       "freq                                            1"
      ]
     },
     "execution_count": 10,
     "metadata": {},
     "output_type": "execute_result"
    }
   ],
   "source": [
    "df.describe()"
   ]
  },
  {
   "cell_type": "code",
   "execution_count": 16,
   "id": "ea95c523-7ba4-4244-b540-6096476e9c97",
   "metadata": {},
   "outputs": [
    {
     "name": "stdout",
     "output_type": "stream",
     "text": [
      "      Name Department  StudyHours  Marks\n",
      "0   Dhanya      AI&DS           5     78\n",
      "1   Adhira        CSE           7     85\n",
      "2  Karthik        ECE           4     60\n",
      "3    Meena      AI&DS           6     92\n",
      "4     Ravi        CSE           8     70\n",
      "5    Priya        EEE           3     45\n",
      "6     Arun        ECE           9     88\n",
      "7    Sneha      AI&DS           2     40\n",
      "8   Vikram        CSE           7     95\n",
      "9    Divya        EEE           6     72\n"
     ]
    }
   ],
   "source": [
    "import pandas as pd\n",
    "\n",
    "# Create DataFrame\n",
    "data = {\n",
    "    \"Name\": [\"Dhanya\", \"Adhira\", \"Karthik\", \"Meena\", \"Ravi\", \n",
    "             \"Priya\", \"Arun\", \"Sneha\", \"Vikram\", \"Divya\"],\n",
    "    \"Department\": [\"AI&DS\", \"CSE\", \"ECE\", \"AI&DS\", \"CSE\", \n",
    "                   \"EEE\", \"ECE\", \"AI&DS\", \"CSE\", \"EEE\"],\n",
    "    \"StudyHours\": [5, 7, 4, 6, 8, 3, 9, 2, 7, 6],\n",
    "    \"Marks\": [78, 85, 60, 92, 70, 45, 88, 40, 95, 72]\n",
    "}\n",
    "\n",
    "df = pd.DataFrame(data)\n",
    "\n",
    "# Show DataFrame\n",
    "print(df)\n"
   ]
  },
  {
   "cell_type": "code",
   "execution_count": 13,
   "id": "2517a0e2-794f-43bc-b2b2-0a8a68ec5b30",
   "metadata": {},
   "outputs": [
    {
     "data": {
      "text/html": [
       "<div>\n",
       "<style scoped>\n",
       "    .dataframe tbody tr th:only-of-type {\n",
       "        vertical-align: middle;\n",
       "    }\n",
       "\n",
       "    .dataframe tbody tr th {\n",
       "        vertical-align: top;\n",
       "    }\n",
       "\n",
       "    .dataframe thead th {\n",
       "        text-align: right;\n",
       "    }\n",
       "</style>\n",
       "<table border=\"1\" class=\"dataframe\">\n",
       "  <thead>\n",
       "    <tr style=\"text-align: right;\">\n",
       "      <th></th>\n",
       "      <th>Name</th>\n",
       "      <th>Department</th>\n",
       "      <th>StudyHours</th>\n",
       "      <th>Marks</th>\n",
       "    </tr>\n",
       "  </thead>\n",
       "  <tbody>\n",
       "    <tr>\n",
       "      <th>0</th>\n",
       "      <td>Dhanya</td>\n",
       "      <td>AI&amp;DS</td>\n",
       "      <td>5</td>\n",
       "      <td>78</td>\n",
       "    </tr>\n",
       "    <tr>\n",
       "      <th>1</th>\n",
       "      <td>Adhira</td>\n",
       "      <td>CSE</td>\n",
       "      <td>7</td>\n",
       "      <td>85</td>\n",
       "    </tr>\n",
       "    <tr>\n",
       "      <th>2</th>\n",
       "      <td>Karthik</td>\n",
       "      <td>ECE</td>\n",
       "      <td>4</td>\n",
       "      <td>60</td>\n",
       "    </tr>\n",
       "    <tr>\n",
       "      <th>3</th>\n",
       "      <td>Meena</td>\n",
       "      <td>AI&amp;DS</td>\n",
       "      <td>6</td>\n",
       "      <td>92</td>\n",
       "    </tr>\n",
       "    <tr>\n",
       "      <th>4</th>\n",
       "      <td>Ravi</td>\n",
       "      <td>CSE</td>\n",
       "      <td>8</td>\n",
       "      <td>70</td>\n",
       "    </tr>\n",
       "  </tbody>\n",
       "</table>\n",
       "</div>"
      ],
      "text/plain": [
       "      Name Department  StudyHours  Marks\n",
       "0   Dhanya      AI&DS           5     78\n",
       "1   Adhira        CSE           7     85\n",
       "2  Karthik        ECE           4     60\n",
       "3    Meena      AI&DS           6     92\n",
       "4     Ravi        CSE           8     70"
      ]
     },
     "execution_count": 13,
     "metadata": {},
     "output_type": "execute_result"
    }
   ],
   "source": [
    "df.head(5)"
   ]
  },
  {
   "cell_type": "code",
   "execution_count": 17,
   "id": "7638dc0b-9c2e-44c5-b94b-80e7418310cb",
   "metadata": {},
   "outputs": [
    {
     "name": "stdout",
     "output_type": "stream",
     "text": [
      "Index(['Name', 'Department', 'StudyHours', 'Marks'], dtype='object')\n"
     ]
    }
   ],
   "source": [
    "print(df.columns)"
   ]
  },
  {
   "cell_type": "code",
   "execution_count": 19,
   "id": "058d84f3-dfbf-41c1-9cfa-abf3a211810a",
   "metadata": {},
   "outputs": [
    {
     "name": "stdout",
     "output_type": "stream",
     "text": [
      "(10, 4)\n"
     ]
    }
   ],
   "source": [
    "print(df.shape)"
   ]
  },
  {
   "cell_type": "code",
   "execution_count": 21,
   "id": "25256d0a-ca69-4063-b161-4081d8450ec5",
   "metadata": {},
   "outputs": [
    {
     "name": "stdout",
     "output_type": "stream",
     "text": [
      "     Name Department  StudyHours  Marks\n",
      "1  Adhira        CSE           7     85\n",
      "4    Ravi        CSE           8     70\n",
      "6    Arun        ECE           9     88\n",
      "8  Vikram        CSE           7     95\n"
     ]
    }
   ],
   "source": [
    "print(df[df[\"StudyHours\"]>6])"
   ]
  },
  {
   "cell_type": "code",
   "execution_count": 22,
   "id": "30ff1ed1-3c96-48bb-9c95-61a7576354e7",
   "metadata": {},
   "outputs": [
    {
     "name": "stdout",
     "output_type": "stream",
     "text": [
      "     Name Department  StudyHours  Marks\n",
      "0  Dhanya      AI&DS           5     78\n",
      "3   Meena      AI&DS           6     92\n",
      "7   Sneha      AI&DS           2     40\n"
     ]
    }
   ],
   "source": [
    "print(df[df[\"Department\"]==\"AI&DS\"])"
   ]
  },
  {
   "cell_type": "code",
   "execution_count": 23,
   "id": "d0c7a8fb-ec5d-42f2-b388-f39a7e2bce31",
   "metadata": {},
   "outputs": [
    {
     "name": "stdout",
     "output_type": "stream",
     "text": [
      "      Name Department  StudyHours  Marks\n",
      "8   Vikram        CSE           7     95\n",
      "3    Meena      AI&DS           6     92\n",
      "6     Arun        ECE           9     88\n",
      "1   Adhira        CSE           7     85\n",
      "0   Dhanya      AI&DS           5     78\n",
      "9    Divya        EEE           6     72\n",
      "4     Ravi        CSE           8     70\n",
      "2  Karthik        ECE           4     60\n",
      "5    Priya        EEE           3     45\n",
      "7    Sneha      AI&DS           2     40\n"
     ]
    }
   ],
   "source": [
    "print(df.sort_values(by = \"Marks\",ascending =False))"
   ]
  },
  {
   "cell_type": "code",
   "execution_count": 25,
   "id": "3ce3b6e3-eae8-4bde-b0c7-590957b3bfad",
   "metadata": {},
   "outputs": [
    {
     "name": "stdout",
     "output_type": "stream",
     "text": [
      "Department\n",
      "AI&DS    70.000000\n",
      "CSE      83.333333\n",
      "ECE      74.000000\n",
      "EEE      58.500000\n",
      "Name: Marks, dtype: float64\n"
     ]
    }
   ],
   "source": [
    "print(df.groupby(\"Department\")[\"Marks\"].mean())"
   ]
  },
  {
   "cell_type": "code",
   "execution_count": 26,
   "id": "ad6e2a49-a9b0-42f8-b8b1-8a5a2aa65823",
   "metadata": {},
   "outputs": [
    {
     "name": "stdout",
     "output_type": "stream",
     "text": [
      "      Name Department  StudyHours  Marks Result\n",
      "0   Dhanya      AI&DS           5     78   Pass\n",
      "1   Adhira        CSE           7     85   Pass\n",
      "2  Karthik        ECE           4     60   Pass\n",
      "3    Meena      AI&DS           6     92   Pass\n",
      "4     Ravi        CSE           8     70   Pass\n",
      "5    Priya        EEE           3     45   Fail\n",
      "6     Arun        ECE           9     88   Pass\n",
      "7    Sneha      AI&DS           2     40   Fail\n",
      "8   Vikram        CSE           7     95   Pass\n",
      "9    Divya        EEE           6     72   Pass\n"
     ]
    }
   ],
   "source": [
    "df[\"Result\"]=df[\"Marks\"].apply(lambda x:\"Pass\" if x>=50 else \"Fail\")\n",
    "print(df)"
   ]
  },
  {
   "cell_type": "code",
   "execution_count": 30,
   "id": "b7ce5db5-09c2-4503-bea7-6b831a9d21cd",
   "metadata": {},
   "outputs": [
    {
     "name": "stdout",
     "output_type": "stream",
     "text": [
      "72.5\n",
      "75.0\n",
      "40\n",
      "95\n"
     ]
    }
   ],
   "source": [
    "print(df[\"Marks\"].mean())\n",
    "print(df[\"Marks\"].median())\n",
    "print(df[\"Marks\"].min())\n",
    "print(df[\"Marks\"].max())"
   ]
  },
  {
   "cell_type": "code",
   "execution_count": null,
   "id": "c9c7f991-621d-4c2b-885e-b715b7279915",
   "metadata": {},
   "outputs": [],
   "source": []
  }
 ],
 "metadata": {
  "kernelspec": {
   "display_name": "Python 3 (ipykernel)",
   "language": "python",
   "name": "python3"
  },
  "language_info": {
   "codemirror_mode": {
    "name": "ipython",
    "version": 3
   },
   "file_extension": ".py",
   "mimetype": "text/x-python",
   "name": "python",
   "nbconvert_exporter": "python",
   "pygments_lexer": "ipython3",
   "version": "3.13.2"
  }
 },
 "nbformat": 4,
 "nbformat_minor": 5
}
